{
 "cells": [
  {
   "cell_type": "code",
   "execution_count": 71,
   "id": "a9fb9c01",
   "metadata": {},
   "outputs": [
    {
     "name": "stdout",
     "output_type": "stream",
     "text": [
      "Requirement already satisfied: forex_python in c:\\users\\dell\\appdata\\local\\programs\\python\\python39\\lib\\site-packages (1.8)Note: you may need to restart the kernel to use updated packages.\n"
     ]
    },
    {
     "name": "stderr",
     "output_type": "stream",
     "text": [
      "\n",
      "[notice] A new release of pip available: 22.2.1 -> 22.3.1\n",
      "[notice] To update, run: python.exe -m pip install --upgrade pip\n"
     ]
    },
    {
     "name": "stdout",
     "output_type": "stream",
     "text": [
      "\n",
      "Requirement already satisfied: requests in c:\\users\\dell\\appdata\\local\\programs\\python\\python39\\lib\\site-packages (from forex_python) (2.27.1)\n",
      "Requirement already satisfied: simplejson in c:\\users\\dell\\appdata\\local\\programs\\python\\python39\\lib\\site-packages (from forex_python) (3.17.6)\n",
      "Requirement already satisfied: certifi>=2017.4.17 in c:\\users\\dell\\appdata\\local\\programs\\python\\python39\\lib\\site-packages (from requests->forex_python) (2022.5.18.1)\n",
      "Requirement already satisfied: urllib3<1.27,>=1.21.1 in c:\\users\\dell\\appdata\\local\\programs\\python\\python39\\lib\\site-packages (from requests->forex_python) (1.26.9)\n",
      "Requirement already satisfied: idna<4,>=2.5 in c:\\users\\dell\\appdata\\local\\programs\\python\\python39\\lib\\site-packages (from requests->forex_python) (3.3)\n",
      "Requirement already satisfied: charset-normalizer~=2.0.0 in c:\\users\\dell\\appdata\\local\\programs\\python\\python39\\lib\\site-packages (from requests->forex_python) (2.0.12)\n"
     ]
    }
   ],
   "source": [
    "pip install forex_python"
   ]
  },
  {
   "cell_type": "code",
   "execution_count": 72,
   "id": "c64b0814",
   "metadata": {},
   "outputs": [
    {
     "name": "stdout",
     "output_type": "stream",
     "text": [
      "Please enter the amount you want to convert: 1000\n",
      "Please enter the currency code that has to be converted: INR\n",
      "Please enter the currency code to convert: USD\n",
      "You are converting 1000 INR to USD .\n",
      "The converted rate is: 12.262322431855543\n"
     ]
    }
   ],
   "source": [
    "from forex_python.converter import CurrencyRates\n",
    "\n",
    "curr = CurrencyRates()\n",
    "\n",
    "amount = int(input(\"Please enter the amount you want to convert: \"))\n",
    "\n",
    "from_currency = input(\"Please enter the currency code that has to be converted: \").upper()\n",
    "\n",
    "to_currency = input(\"Please enter the currency code to convert: \").upper()\n",
    "\n",
    "print(\"You are converting\", amount, from_currency, \"to\", to_currency,\".\")\n",
    "\n",
    "output = curr.convert(from_currency, to_currency, amount)\n",
    "\n",
    "print(\"The converted rate is:\", output)"
   ]
  },
  {
   "cell_type": "code",
   "execution_count": null,
   "id": "b69bf773",
   "metadata": {},
   "outputs": [],
   "source": []
  }
 ],
 "metadata": {
  "kernelspec": {
   "display_name": "Python 3 (ipykernel)",
   "language": "python",
   "name": "python3"
  },
  "language_info": {
   "codemirror_mode": {
    "name": "ipython",
    "version": 3
   },
   "file_extension": ".py",
   "mimetype": "text/x-python",
   "name": "python",
   "nbconvert_exporter": "python",
   "pygments_lexer": "ipython3",
   "version": "3.9.6"
  }
 },
 "nbformat": 4,
 "nbformat_minor": 5
}
